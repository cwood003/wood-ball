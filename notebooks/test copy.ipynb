{
 "cells": [
  {
   "cell_type": "code",
   "execution_count": 1,
   "metadata": {},
   "outputs": [],
   "source": [
    "\n",
    "import numpy as np\n",
    "import pandas as pd\n",
    "import requests\n",
    "from lib.odds import Odds\n",
    "import duckdb"
   ]
  },
  {
   "cell_type": "code",
   "execution_count": 2,
   "metadata": {},
   "outputs": [],
   "source": [
    "df = Odds().get_sports()"
   ]
  },
  {
   "cell_type": "code",
   "execution_count": 2,
   "metadata": {},
   "outputs": [],
   "source": [
    "import pygwalker as pg"
   ]
  },
  {
   "cell_type": "code",
   "execution_count": 2,
   "metadata": {},
   "outputs": [
    {
     "data": {
      "text/html": [
       "<pre style=\"white-space:pre;overflow-x:auto;line-height:normal;font-family:Menlo,'DejaVu Sans Mono',consolas,'Courier New',monospace\">Number of events: <span style=\"color: #008080; text-decoration-color: #008080; font-weight: bold\">1</span>\n",
       "</pre>\n"
      ],
      "text/plain": [
       "Number of events: \u001b[1;36m1\u001b[0m\n"
      ]
     },
     "metadata": {},
     "output_type": "display_data"
    }
   ],
   "source": [
    "df = Odds().get_nba_champ_odds()"
   ]
  },
  {
   "cell_type": "code",
   "execution_count": 58,
   "metadata": {},
   "outputs": [
    {
     "data": {
      "text/html": [
       "<div>\n",
       "<style scoped>\n",
       "    .dataframe tbody tr th:only-of-type {\n",
       "        vertical-align: middle;\n",
       "    }\n",
       "\n",
       "    .dataframe tbody tr th {\n",
       "        vertical-align: top;\n",
       "    }\n",
       "\n",
       "    .dataframe thead th {\n",
       "        text-align: right;\n",
       "    }\n",
       "</style>\n",
       "<table border=\"1\" class=\"dataframe\">\n",
       "  <thead>\n",
       "    <tr style=\"text-align: right;\">\n",
       "      <th></th>\n",
       "      <th>key</th>\n",
       "      <th>group</th>\n",
       "      <th>title</th>\n",
       "      <th>description</th>\n",
       "      <th>active</th>\n",
       "      <th>has_outrights</th>\n",
       "    </tr>\n",
       "  </thead>\n",
       "  <tbody>\n",
       "    <tr>\n",
       "      <th>5</th>\n",
       "      <td>basketball_euroleague</td>\n",
       "      <td>Basketball</td>\n",
       "      <td>Basketball Euroleague</td>\n",
       "      <td>Basketball Euroleague</td>\n",
       "      <td>True</td>\n",
       "      <td>False</td>\n",
       "    </tr>\n",
       "    <tr>\n",
       "      <th>6</th>\n",
       "      <td>basketball_nba</td>\n",
       "      <td>Basketball</td>\n",
       "      <td>NBA</td>\n",
       "      <td>US Basketball</td>\n",
       "      <td>True</td>\n",
       "      <td>False</td>\n",
       "    </tr>\n",
       "    <tr>\n",
       "      <th>7</th>\n",
       "      <td>basketball_nba_championship_winner</td>\n",
       "      <td>Basketball</td>\n",
       "      <td>NBA Championship Winner</td>\n",
       "      <td>Championship Winner 2024/2025</td>\n",
       "      <td>True</td>\n",
       "      <td>True</td>\n",
       "    </tr>\n",
       "    <tr>\n",
       "      <th>8</th>\n",
       "      <td>basketball_ncaab</td>\n",
       "      <td>Basketball</td>\n",
       "      <td>NCAAB</td>\n",
       "      <td>US College Basketball</td>\n",
       "      <td>True</td>\n",
       "      <td>False</td>\n",
       "    </tr>\n",
       "    <tr>\n",
       "      <th>9</th>\n",
       "      <td>basketball_ncaab_championship_winner</td>\n",
       "      <td>Basketball</td>\n",
       "      <td>NCAAB Championship Winner</td>\n",
       "      <td>US College Basketball Championship Winner</td>\n",
       "      <td>True</td>\n",
       "      <td>True</td>\n",
       "    </tr>\n",
       "  </tbody>\n",
       "</table>\n",
       "</div>"
      ],
      "text/plain": [
       "                                    key       group  \\\n",
       "5                 basketball_euroleague  Basketball   \n",
       "6                        basketball_nba  Basketball   \n",
       "7    basketball_nba_championship_winner  Basketball   \n",
       "8                      basketball_ncaab  Basketball   \n",
       "9  basketball_ncaab_championship_winner  Basketball   \n",
       "\n",
       "                       title                                description  \\\n",
       "5      Basketball Euroleague                      Basketball Euroleague   \n",
       "6                        NBA                              US Basketball   \n",
       "7    NBA Championship Winner              Championship Winner 2024/2025   \n",
       "8                      NCAAB                      US College Basketball   \n",
       "9  NCAAB Championship Winner  US College Basketball Championship Winner   \n",
       "\n",
       "   active  has_outrights  \n",
       "5    True          False  \n",
       "6    True          False  \n",
       "7    True           True  \n",
       "8    True          False  \n",
       "9    True           True  "
      ]
     },
     "metadata": {},
     "output_type": "display_data"
    }
   ],
   "source": [
    "display(df.query(\"group == 'Basketball'\"))"
   ]
  },
  {
   "cell_type": "code",
   "execution_count": 7,
   "metadata": {},
   "outputs": [
    {
     "ename": "AttributeError",
     "evalue": "type object 'Odds' has no attribute 'append_to_table'",
     "output_type": "error",
     "traceback": [
      "\u001b[1;31m---------------------------------------------------------------------------\u001b[0m",
      "\u001b[1;31mAttributeError\u001b[0m                            Traceback (most recent call last)",
      "Cell \u001b[1;32mIn[7], line 1\u001b[0m\n\u001b[1;32m----> 1\u001b[0m \u001b[43mOdds\u001b[49m\u001b[38;5;241;43m.\u001b[39;49m\u001b[43mappend_to_table\u001b[49m(df, \u001b[38;5;124m'\u001b[39m\u001b[38;5;124mnba_champ_odds\u001b[39m\u001b[38;5;124m'\u001b[39m)\n",
      "\u001b[1;31mAttributeError\u001b[0m: type object 'Odds' has no attribute 'append_to_table'"
     ]
    }
   ],
   "source": [
    "Odds.append_to_table(df, 'nba_champ_odds')"
   ]
  },
  {
   "cell_type": "code",
   "execution_count": 23,
   "metadata": {},
   "outputs": [
    {
     "name": "stdout",
     "output_type": "stream",
     "text": [
      "Table nba_game_odds does not exist. Created table from DF\n"
     ]
    }
   ],
   "source": [
    "append_to_table_test(df, 'nba_game_odds')"
   ]
  },
  {
   "cell_type": "code",
   "execution_count": 8,
   "metadata": {},
   "outputs": [
    {
     "data": {
      "application/vnd.jupyter.widget-view+json": {
       "model_id": "e0018374e2a3445087ebbb7ad23f5947",
       "version_major": 2,
       "version_minor": 0
      },
      "text/plain": [
       "Box(children=(HTML(value='\\n<div id=\"ifr-pyg-000626d2e3706ecewcN9efJYiQXpUTgO\" style=\"height: auto\">\\n    <hea…"
      ]
     },
     "metadata": {},
     "output_type": "display_data"
    },
    {
     "data": {
      "text/html": [
       "<script>\n",
       "    window.addEventListener(\"message\", function(event) {\n",
       "        const backgroundMap = {\n",
       "            \"dark\": \"hsl(240 10% 3.9%)\",\n",
       "            \"light\": \"hsl(0 0 100%)\",\n",
       "        };\n",
       "        const colorMap = {\n",
       "            \"dark\": \"hsl(0 0% 98%)\",\n",
       "            \"light\": \"hsl(240 10% 3.9%)\",\n",
       "        };\n",
       "        if (event.data.action === \"changeAppearance\" && event.data.gid === \"000626d2e3706ecewcN9efJYiQXpUTgO\") {\n",
       "            var iframe = document.getElementById(\"gwalker-000626d2e3706ecewcN9efJYiQXpUTgO\");\n",
       "            iframe.style.background  = backgroundMap[event.data.appearance];\n",
       "            iframe.style.color = colorMap[event.data.appearance];\n",
       "        }\n",
       "    });\n",
       "</script>"
      ],
      "text/plain": [
       "<IPython.core.display.HTML object>"
      ]
     },
     "metadata": {},
     "output_type": "display_data"
    },
    {
     "data": {
      "text/html": [],
      "text/plain": [
       "<IPython.core.display.HTML object>"
      ]
     },
     "metadata": {},
     "output_type": "display_data"
    },
    {
     "data": {
      "text/plain": [
       "<pygwalker.api.pygwalker.PygWalker at 0x2fbe43361b0>"
      ]
     },
     "execution_count": 8,
     "metadata": {},
     "output_type": "execute_result"
    }
   ],
   "source": [
    "pg.walk(df, kernel_computation=True)"
   ]
  }
 ],
 "metadata": {
  "kernelspec": {
   "display_name": "default",
   "language": "python",
   "name": "python3"
  },
  "language_info": {
   "codemirror_mode": {
    "name": "ipython",
    "version": 3
   },
   "file_extension": ".py",
   "mimetype": "text/x-python",
   "name": "python",
   "nbconvert_exporter": "python",
   "pygments_lexer": "ipython3",
   "version": "3.12.3"
  }
 },
 "nbformat": 4,
 "nbformat_minor": 2
}
