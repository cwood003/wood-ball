{
 "cells": [
  {
   "cell_type": "code",
   "execution_count": 1,
   "metadata": {},
   "outputs": [
    {
     "ename": "ModuleNotFoundError",
     "evalue": "No module named 'lib.odds'",
     "output_type": "error",
     "traceback": [
      "\u001b[1;31m---------------------------------------------------------------------------\u001b[0m",
      "\u001b[1;31mModuleNotFoundError\u001b[0m                       Traceback (most recent call last)",
      "Cell \u001b[1;32mIn[1], line 4\u001b[0m\n\u001b[0;32m      2\u001b[0m \u001b[38;5;28;01mimport\u001b[39;00m \u001b[38;5;21;01mpandas\u001b[39;00m \u001b[38;5;28;01mas\u001b[39;00m \u001b[38;5;21;01mpd\u001b[39;00m\n\u001b[0;32m      3\u001b[0m \u001b[38;5;28;01mimport\u001b[39;00m \u001b[38;5;21;01mrequests\u001b[39;00m\n\u001b[1;32m----> 4\u001b[0m \u001b[38;5;28;01mfrom\u001b[39;00m \u001b[38;5;21;01mlib\u001b[39;00m\u001b[38;5;21;01m.\u001b[39;00m\u001b[38;5;21;01modds\u001b[39;00m \u001b[38;5;28;01mimport\u001b[39;00m Odds\n\u001b[0;32m      5\u001b[0m \u001b[38;5;28;01mimport\u001b[39;00m \u001b[38;5;21;01mduckdb\u001b[39;00m\n",
      "\u001b[1;31mModuleNotFoundError\u001b[0m: No module named 'lib.odds'"
     ]
    }
   ],
   "source": [
    "\n",
    "import numpy as np\n",
    "import pandas as pd\n",
    "import requests\n",
    "from lib.odds import Odds\n",
    "import duckdb"
   ]
  },
  {
   "cell_type": "code",
   "execution_count": 2,
   "metadata": {},
   "outputs": [
    {
     "name": "stdout",
     "output_type": "stream",
     "text": [
      "{'data': {'campaigns': {'nodes': [{'createdAtUtc': '2022-11-17T19:02:31.400Z', 'description': None, 'id': '0115c9c', 'lastUpdatedAtUtc': '2022-11-17T19:02:31.400Z', 'name': '2022 Pepsi TM Fall Football PMP_PEB/PTM/298', 'advertiser': {'description': None, 'id': 'ik95qda', 'country': {'id': 'u2o3g7lwlp', 'shortName': 'US'}, 'name': 'PepsiCo - Trademark'}, 'siteUrl': None}, {'createdAtUtc': '2019-04-10T13:21:56.143Z', 'description': None, 'id': '019rrzz', 'lastUpdatedAtUtc': '2024-06-23T22:38:33.377Z', 'name': \"FLNA_2019_Cheetos_Cheetos_Q2Continuity_Sales Volume_CTV_Q2'FY19_04.22-06.16\", 'advertiser': {'description': None, 'id': 'phcxmxw', 'country': {'id': 'u2o3g7lwlp', 'shortName': 'US'}, 'name': 'PepsiCo - Frito Lay'}, 'siteUrl': None}, {'createdAtUtc': '2017-08-11T15:16:13.737Z', 'description': None, 'id': '069ub0j', 'lastUpdatedAtUtc': '2024-06-25T01:28:07.510Z', 'name': 'Lays Megacities Boston Tier 2 - TWYS Patriots and SF (56337)', 'advertiser': {'description': None, 'id': 'phcxmxw', 'country': {'id': 'u2o3g7lwlp', 'shortName': 'US'}, 'name': 'PepsiCo - Frito Lay'}, 'siteUrl': None}, {'createdAtUtc': '2017-06-13T14:53:18.070Z', 'description': None, 'id': '07zhgfq', 'lastUpdatedAtUtc': '2024-06-25T11:58:31.240Z', 'name': '2017 MDW Q2 Display Complex BWW (55755)', 'advertiser': {'description': None, 'id': 'e8uvmxj', 'country': {'id': 'u2o3g7lwlp', 'shortName': 'US'}, 'name': 'PepsiCo - Mountain Dew'}, 'siteUrl': None}, {'createdAtUtc': '2024-01-10T21:14:19.717Z', 'description': None, 'id': '08g96dx', 'lastUpdatedAtUtc': '2024-04-02T01:05:06.840Z', 'name': \"Hulu_PBNA_North_2024_Pure Leaf_1Q'24 POLV_NA_Awareness_Direct/Programatic_Brand Awareness_PEB/PUR113_1/8-3/24\", 'advertiser': {'description': None, 'id': 'ik95qda', 'country': {'id': 'u2o3g7lwlp', 'shortName': 'US'}, 'name': 'PepsiCo - Trademark'}, 'siteUrl': None}, {'createdAtUtc': '2016-11-18T18:07:30.487Z', 'description': None, 'id': '0abbzhd', 'lastUpdatedAtUtc': '2024-06-25T20:38:34.120Z', 'name': 'XX', 'advertiser': {'description': None, 'id': 'phcxmxw', 'country': {'id': 'u2o3g7lwlp', 'shortName': 'US'}, 'name': 'PepsiCo - Frito Lay'}, 'siteUrl': None}, {'createdAtUtc': '2020-11-02T14:59:55.383Z', 'description': None, 'id': '0dpb17g', 'lastUpdatedAtUtc': '2020-11-02T14:59:55.383Z', 'name': \"Cheetos_POLV Upfront_Q4'FY20_9.28-12.27_Pluto\", 'advertiser': {'description': None, 'id': 'phcxmxw', 'country': {'id': 'u2o3g7lwlp', 'shortName': 'US'}, 'name': 'PepsiCo - Frito Lay'}, 'siteUrl': None}, {'createdAtUtc': '2024-07-10T17:47:44.160Z', 'description': None, 'id': '0fr5jy1', 'lastUpdatedAtUtc': '2024-09-30T01:50:33.577Z', 'name': 'PAX_PBNA_US_2024_NACP_Frappuccino_3Q24 POLV_Frappuccino_Awareness_Programmatic_Brand Awareness_PEB/FPC/019_7/1-9/29', 'advertiser': {'description': None, 'id': 'ik95qda', 'country': {'id': 'u2o3g7lwlp', 'shortName': 'US'}, 'name': 'PepsiCo - Trademark'}, 'siteUrl': None}, {'createdAtUtc': '2017-10-23T20:46:09.377Z', 'description': None, 'id': '0gtl47v', 'lastUpdatedAtUtc': '2024-06-24T23:20:49.540Z', 'name': '2017 Ruffles Q4 Equity (56986)', 'advertiser': {'description': None, 'id': 'phcxmxw', 'country': {'id': 'u2o3g7lwlp', 'shortName': 'US'}, 'name': 'PepsiCo - Frito Lay'}, 'siteUrl': None}, {'createdAtUtc': '2021-04-19T14:01:05.533Z', 'description': None, 'id': '0ilff8y', 'lastUpdatedAtUtc': '2021-04-19T14:01:05.533Z', 'name': \"Lay's_Lay's_POLV Upfront_Q2'FY21_Awareness_4.19-6.13 - FOX\", 'advertiser': {'description': None, 'id': 'phcxmxw', 'country': {'id': 'u2o3g7lwlp', 'shortName': 'US'}, 'name': 'PepsiCo - Frito Lay'}, 'siteUrl': None}, {'createdAtUtc': '2021-01-05T22:20:39.270Z', 'description': None, 'id': '0jawbtq', 'lastUpdatedAtUtc': '2021-01-05T22:20:39.270Z', 'name': \"Lay's_POLV Upfront_Q1'FY21_Awareness_01.04-03.14_NBCU\", 'advertiser': {'description': None, 'id': 'phcxmxw', 'country': {'id': 'u2o3g7lwlp', 'shortName': 'US'}, 'name': 'PepsiCo - Frito Lay'}, 'siteUrl': None}, {'createdAtUtc': '2024-04-29T21:23:20.963Z', 'description': '', 'id': '0jo8xpf', 'lastUpdatedAtUtc': '2024-07-30T01:01:37.333Z', 'name': 'PBNA_US_2024_Mountain Dew_Mountain Dew_2024 Mountain Dew BCG_BCG_Awareness_Programmatic_Brand Awareness_PEB/MDW/446_Des Moines', 'advertiser': {'description': None, 'id': 'e8uvmxj', 'country': {'id': 'u2o3g7lwlp', 'shortName': 'US'}, 'name': 'PepsiCo - Mountain Dew'}, 'siteUrl': None}, {'createdAtUtc': '2017-03-28T18:48:18.670Z', 'description': None, 'id': '0o4x55p', 'lastUpdatedAtUtc': '2024-06-25T17:02:36.287Z', 'name': 'Duplication ', 'advertiser': {'description': None, 'id': 'ik95qda', 'country': {'id': 'u2o3g7lwlp', 'shortName': 'US'}, 'name': 'PepsiCo - Trademark'}, 'siteUrl': None}, {'createdAtUtc': '2018-03-22T18:52:37.040Z', 'description': None, 'id': '0qeg5oq', 'lastUpdatedAtUtc': '2024-06-24T19:46:08.263Z', 'name': '2018_PTM_Diet Pepsi_FY18_Trial_Display', 'advertiser': {'description': None, 'id': 'ik95qda', 'country': {'id': 'u2o3g7lwlp', 'shortName': 'US'}, 'name': 'PepsiCo - Trademark'}, 'siteUrl': None}, {'createdAtUtc': '2018-01-16T20:22:19.677Z', 'description': None, 'id': '0tc3s8c', 'lastUpdatedAtUtc': '2024-06-24T21:15:10.697Z', 'name': '2018 Mountain Dew Complex PG Direct Tag Q1 (57484) 1/17 - 2/3', 'advertiser': {'description': None, 'id': 'e8uvmxj', 'country': {'id': 'u2o3g7lwlp', 'shortName': 'US'}, 'name': 'PepsiCo - Mountain Dew'}, 'siteUrl': None}, {'createdAtUtc': '2024-01-09T21:00:03.077Z', 'description': None, 'id': '0tk40hc', 'lastUpdatedAtUtc': '2024-03-25T01:29:49.630Z', 'name': \"Roku_PBNA_North_2024_Pure Leaf_1Q'24 POLV_NA_Awareness_Direct/Programatic_Brand Awareness_PEB/PUR113_1/8-3/24\", 'advertiser': {'description': None, 'id': 'ik95qda', 'country': {'id': 'u2o3g7lwlp', 'shortName': 'US'}, 'name': 'PepsiCo - Trademark'}, 'siteUrl': None}, {'createdAtUtc': '2017-08-11T20:08:12.073Z', 'description': None, 'id': '0v49vfb', 'lastUpdatedAtUtc': '2024-06-25T01:28:07.510Z', 'name': 'Lays Megacities Washington DC Tier 2 Lucky Bags (56338)', 'advertiser': {'description': None, 'id': 'phcxmxw', 'country': {'id': 'u2o3g7lwlp', 'shortName': 'US'}, 'name': 'PepsiCo - Frito Lay'}, 'siteUrl': None}, {'createdAtUtc': '2023-07-13T14:40:02.547Z', 'description': None, 'id': '0yotmot', 'lastUpdatedAtUtc': '2023-09-18T02:25:53.340Z', 'name': 'PBNA_North_2023_Pure Leaf_Pure Leaf_PMP_NA_Awareness_Programmatic_Brand Awareness_PEB/PUR/054_7/17-9/10', 'advertiser': {'description': None, 'id': 'ik95qda', 'country': {'id': 'u2o3g7lwlp', 'shortName': 'US'}, 'name': 'PepsiCo - Trademark'}, 'siteUrl': None}, {'createdAtUtc': '2016-09-21T18:10:07.133Z', 'description': None, 'id': '0zx4j5l', 'lastUpdatedAtUtc': '2024-06-25T22:18:21.427Z', 'name': '2016 Doritos Hot & Spicy Display (33441)', 'advertiser': {'description': None, 'id': 'phcxmxw', 'country': {'id': 'u2o3g7lwlp', 'shortName': 'US'}, 'name': 'PepsiCo - Frito Lay'}, 'siteUrl': None}, {'createdAtUtc': '2016-09-08T20:56:33.820Z', 'description': None, 'id': '10g4o32', 'lastUpdatedAtUtc': '2024-06-25T23:02:11.697Z', 'name': 'x', 'advertiser': {'description': None, 'id': 'phcxmxw', 'country': {'id': 'u2o3g7lwlp', 'shortName': 'US'}, 'name': 'PepsiCo - Frito Lay'}, 'siteUrl': None}, {'createdAtUtc': '2018-11-15T16:22:05.823Z', 'description': None, 'id': '124sl4b', 'lastUpdatedAtUtc': '2024-06-24T02:33:58.963Z', 'name': \"PEP_2018_DTM_Green Dew_BWW_Store Visits_Display_Q4'FY18_11.19-12.21_59763\", 'advertiser': {'description': None, 'id': 'e8uvmxj', 'country': {'id': 'u2o3g7lwlp', 'shortName': 'US'}, 'name': 'PepsiCo - Mountain Dew'}, 'siteUrl': None}, {'createdAtUtc': '2017-04-05T20:47:17.837Z', 'description': None, 'id': '14zhrns', 'lastUpdatedAtUtc': '2024-06-25T17:01:40.363Z', 'name': '2017 Doritos Guardians of the Galaxy - Spotify Audio (55543)', 'advertiser': {'description': None, 'id': 'phcxmxw', 'country': {'id': 'u2o3g7lwlp', 'shortName': 'US'}, 'name': 'PepsiCo - Frito Lay'}, 'siteUrl': None}, {'createdAtUtc': '2021-04-08T13:17:10.827Z', 'description': None, 'id': '15cjis2', 'lastUpdatedAtUtc': '2021-04-08T13:17:10.827Z', 'name': \"Tostitos_Tostitos_POLV Upfront_Q2'FY21_Awareness_3.29-6.27 - Tubi\", 'advertiser': {'description': None, 'id': 'phcxmxw', 'country': {'id': 'u2o3g7lwlp', 'shortName': 'US'}, 'name': 'PepsiCo - Frito Lay'}, 'siteUrl': None}, {'createdAtUtc': '2023-03-29T14:18:09.977Z', 'description': None, 'id': '15qjyjc', 'lastUpdatedAtUtc': '2023-06-26T00:53:10.293Z', 'name': 'PAX_NACP Portfolio_NACP Portfolio_POLV Upfront_N/A_Q2’FY23_Awareness_3.27-6.25', 'advertiser': {'description': None, 'id': 'ik95qda', 'country': {'id': 'u2o3g7lwlp', 'shortName': 'US'}, 'name': 'PepsiCo - Trademark'}, 'siteUrl': None}, {'createdAtUtc': '2023-02-24T22:21:54.353Z', 'description': None, 'id': '1e9g1gk', 'lastUpdatedAtUtc': '2023-02-24T22:21:54.353Z', 'name': 'DHXP_Pepsi TM_Pepsi TM_POLV Upfront_N/A_Q1’FY23_Awareness_2.13-3.26', 'advertiser': {'description': None, 'id': 'ik95qda', 'country': {'id': 'u2o3g7lwlp', 'shortName': 'US'}, 'name': 'PepsiCo - Trademark'}, 'siteUrl': None}]}, 'adGroups': {'nodes': [{'id': '01ppc51', 'name': 'Disney_ABC Primetime Ex News_PG_Cross Device_Video: FEP/Longform_Pre/Mid-Roll_VAST(Non-Skippable) : 15_OMD_FLNA -DRT', 'description': None, 'createdAt': '2020-10-26T20:23:40.063Z'}, {'id': '01rn8pk', 'name': 'Prospecting_NA_W25-54_Display_Native_Cross Screen_Web_Curated Channel (Contextual)_YieldMo_PFT/SUN/004', 'description': None, 'createdAt': '2019-07-19T15:44:16.503Z'}, {'id': '02wptv1', 'name': 'Prospecting_Custom Audience - Standard_Triplelift_Display_Native_Cross Screen_Cross Environment_Curated Channel (Contextual)_Sitelist Targeting/Shawn_PFT/LAY/002', 'description': None, 'createdAt': '2019-07-26T17:05:42.233Z'}, {'id': '03krwkh', 'name': 'Prospecting_Custom Audience - Standard_Frequent BWW Visitors_Video_Standard_Cross Screen_Cross Environment_Curated Channel (General)_General_PEB/PTM/131_:15s VAST', 'description': None, 'createdAt': '2019-09-12T02:01:48.213Z'}, {'id': '03yx1qg', 'name': 'Prospecting_NA_Audience Predictor_Display_High Impact_Cross Screen_Cross Environment_Non-Guaranteed Single Placement_Yieldmo PMP_PEB/MDW/003', 'description': None, 'createdAt': '2019-03-27T13:49:02.153Z'}, {'id': '048ji3n', 'name': 'KRG_TBG_NKD_Competitor Segments_NJC_ECM_001', 'description': None, 'createdAt': '2023-08-16T20:06:20.760Z'}, {'id': '04ozmic', 'name': 'Crackle_NACP Portfolio_POLV Upfront 2/26-3/26_PG_Cross Device_Video: FEP/Longform_Pre/Mid-Roll_VAST(Non-Skippable) : 15_OMD_PEB - SRD', 'description': None, 'createdAt': '2023-02-16T16:46:39.050Z'}, {'id': '05blltg', 'name': 'Jay C_Kroger Grilling Enthusiasts', 'description': None, 'createdAt': '2024-05-16T20:43:20.443Z'}, {'id': '07rcvyx', 'name': 'Prospecting_NA_Fitness, Game Day, Festival Enthusiasts_Video_Standard_Cross Screen_Cross Environment_Non-Guaranteed Single Placement_Pandora Custom PMP_PEB/MDW/003', 'description': None, 'createdAt': '2019-01-10T22:10:40.160Z'}, {'id': '09qgl26', 'name': 'Prospecting_NA_Contextual Multi Entertainment_Video_Standard_Cross Screen_Cross Environment_Curated Channel (General)_CTV_PEB/MDW/003', 'description': None, 'createdAt': '2019-01-10T22:16:07.320Z'}, {'id': '0a07skk', 'name': 'Prospecting_Custom Audience - Standard_FF/LuxuryShoppers/Jalapeno/Sharethrough/60%_Video__Cross Screen_Cross Environment_Blacklist (Default)_Native_PFT/LKC/001', 'description': None, 'createdAt': '2019-04-30T19:21:15.970Z'}, {'id': '0a6ekxw', 'name': 'PAX_Audience: [OMNI] 11/4-12/29_PG_Cross Device_Video: FEP/Longform_Pre/Mid-Roll_VAST(Non-Skippable) : 15_OMD_PEB', 'description': None, 'createdAt': '2024-11-05T19:10:07.130Z'}, {'id': '0bxqzu8', 'name': \"P12G6SY_Programmatic_Video_Video_TTD_SSNT_Demo_Sales Volume_1x1_Cross Screen_Cheetos_Flamin Hot_Q3'FY19_ROS_:15 Nick at Nite_HotCheetos/C&GProscore7+8+9+10/ACG\", 'description': None, 'createdAt': '2019-07-11T21:51:17.093Z'}, {'id': '0c4sjkm', 'name': 'Prospecting_Custom Audience - Standard_FF/LuxuryShoppers/Jalapeno/Unruly/80%_Video__Cross Screen_Cross Environment_Blacklist (Default)_Native_PFT/LKC/001', 'description': None, 'createdAt': '2019-04-30T18:33:32.990Z'}, {'id': '0cu2kxi', 'name': 'Marianos_Lapsed Lipton Buyers', 'description': None, 'createdAt': '2024-05-17T13:51:21.820Z'}, {'id': '0cxeel5', 'name': 'Prospecting_Publisher Data_NostalgicMillennials_Video_Standard_Cross Screen_Cross Environment_Contextual Whitelist (exchange only)_SharethroughPMP_PFT/TOS/002', 'description': None, 'createdAt': '2019-09-26T19:49:20.223Z'}, {'id': '0esev0n', 'name': 'Prospecting_Custom Audience - Standard_Triplelift_Display_Native_Cross Screen_Cross Environment_Curated Channel (Contextual)_Sitelist Targeting/Nicholas_PFT/LAY/002', 'description': None, 'createdAt': '2019-07-26T17:05:32.983Z'}, {'id': '0f5ams3', 'name': 'Vevo _FEP/OTT Demo-Bucket A18+ Sustain 4/1-5/17_PG_Desktop/CTV/Mobile_Video: FEP/Longform_Pre/Mid-Roll_VAST(Non-Skippable) : 15_OMD_PEB - FPC', 'description': None, 'createdAt': '2024-04-03T21:51:33.437Z'}, {'id': '0fh5f32', 'name': 'Prospecting_Custom Audience - Standard_MVS_Video_Standard_Cross Screen_Cross Environment_Blacklist (Default)_TeadsPMP_PFT/LAY/004_6s', 'description': None, 'createdAt': '2019-10-15T17:48:09.150Z'}, {'id': '0h40cox', 'name': 'Tubi', 'description': None, 'createdAt': '2024-10-11T20:55:48.663Z'}, {'id': '0han4jw', 'name': 'Fred Meyer_Kroger Soft Drink or Bagged Snack Buyers', 'description': None, 'createdAt': '2024-05-16T20:00:36.633Z'}, {'id': '0hc8cy9', 'name': 'Prospecting_Custom Audience - Standard_MVS + Geo_Display_Standard_Cross Screen_Cross Environment_Non-Guaranteed Single Placement_Pandora Custom PMP_PEB/MDW/003', 'description': None, 'createdAt': '2019-08-13T20:57:22.670Z'}, {'id': '0hjmnnv', 'name': 'Prospecting_Custom Audience - Standard_FF/Parenting&Fam/OG&Jalapeno/Sharethrough/60%_Video__Cross Screen_Cross Environment_Blacklist (Default)_Native_PFT/LKC/001', 'description': None, 'createdAt': '2019-04-30T19:21:07.437Z'}, {'id': '0hr4rs0', 'name': 'Low BDI_City Market_Salty Snacks', 'description': None, 'createdAt': '2024-10-25T18:18:15.460Z'}, {'id': '0jdnw40', 'name': 'Prospecting_Custom Audience - Standard_PB/Finance/OG/Sharethrough/60%_Video__Cross Screen_Cross Environment_Blacklist (Default)_Native_PFT/LKC/001', 'description': None, 'createdAt': '2019-04-30T19:21:11.127Z'}]}}}\n"
     ]
    }
   ],
   "source": [
    "import requests\n",
    " \n",
    "# Define the GraphQL Platform API endpoint URLs.\n",
    "sandbox_url = 'https://ext-api.sb.thetradedesk.com/graphql'\n",
    "production_url = 'https://api.gen.adsrvr.org/graphql'\n",
    " \n",
    "# Define the GraphQL query.\n",
    "query = \"\"\"\n",
    "query GetCampaignMetaData {\n",
    "  campaigns {\n",
    "    nodes {\n",
    "      createdAtUtc\n",
    "      description\n",
    "      id\n",
    "      lastUpdatedAtUtc\n",
    "      name\n",
    "      advertiser {\n",
    "        description\n",
    "        id\n",
    "        country {\n",
    "          id\n",
    "          shortName\n",
    "        }\n",
    "        name\n",
    "      }\n",
    "      siteUrl\n",
    "    }\n",
    "  }\n",
    "  adGroups {\n",
    "    nodes {\n",
    "      id\n",
    "      name\n",
    "      description\n",
    "      createdAt\n",
    "    }\n",
    "  }\n",
    "}\n",
    "\"\"\"\n",
    " \n",
    "# Define the variables in the query.\n",
    "# variables = {\n",
    "#     \"advertiserId\": \"ADVERTISER_ID_PLACEHOLDER\"\n",
    "# }\n",
    " \n",
    "# Create a dictionary for the GraphQL request.\n",
    "data = {\n",
    "    'query': query,\n",
    "    # 'variables': variables\n",
    "}\n",
    " \n",
    "# Create headers with the authorization token.\n",
    "headers = {\n",
    "    # You can only use 1 auth header. You must choose 'TTD-Auth' (preferred) or 'Authorization'.\n",
    " \n",
    "    # DeskAPI and UnifiedAPI Tokens ONLY\n",
    "    'TTD-Auth': 'IfunpvGDMgnkgYUSfL/oBs1wODNNteiS1/8aLQjQS8cUXwToSY5tVZLrCnfTQHtP'\n",
    " \n",
    "    # DeskUI JWT Token ONLY\n",
    "    # 'Authorization': f'Bearer {token}'\n",
    "}\n",
    " \n",
    "# Send the GraphQL request.\n",
    "# The `url` param is used only for demonstration purposes. Be sure to replace it with the GraphQL platform API URL you want to target.\n",
    "response = requests.post(url=sandbox_url, json=data, headers=headers)\n",
    " \n",
    "if response.status_code == 200:\n",
    "    # Parse the response JSON\n",
    "    result = response.json()\n",
    "    print(result)\n",
    "else:\n",
    "    print(f\"Request failed with status code: {response.status_code}\")\n",
    "    print(response.text)"
   ]
  },
  {
   "cell_type": "code",
   "execution_count": null,
   "metadata": {},
   "outputs": [],
   "source": []
  }
 ],
 "metadata": {
  "kernelspec": {
   "display_name": "default",
   "language": "python",
   "name": "python3"
  },
  "language_info": {
   "codemirror_mode": {
    "name": "ipython",
    "version": 3
   },
   "file_extension": ".py",
   "mimetype": "text/x-python",
   "name": "python",
   "nbconvert_exporter": "python",
   "pygments_lexer": "ipython3",
   "version": "3.12.8"
  }
 },
 "nbformat": 4,
 "nbformat_minor": 2
}
