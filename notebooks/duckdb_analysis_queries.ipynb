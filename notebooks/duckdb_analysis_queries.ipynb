{
 "cells": [
  {
   "cell_type": "code",
   "execution_count": 5,
   "metadata": {},
   "outputs": [
    {
     "data": {
      "text/html": [
       "<span style=\"None\">Tip: You may define configurations in C:\\Users\\cwood\\Documents\\bball_proj\\wood-ball\\pyproject.toml or C:\\Users\\cwood\\.jupysql\\config. </span>"
      ],
      "text/plain": [
       "Tip: You may define configurations in C:\\Users\\cwood\\Documents\\bball_proj\\wood-ball\\pyproject.toml or C:\\Users\\cwood\\.jupysql\\config. "
      ]
     },
     "metadata": {},
     "output_type": "display_data"
    },
    {
     "data": {
      "text/html": [
       "Please review our <a href='https://jupysql.ploomber.io/en/latest/api/configuration.html#loading-from-a-file'>configuration guideline</a>."
      ],
      "text/plain": [
       "<IPython.core.display.HTML object>"
      ]
     },
     "metadata": {},
     "output_type": "display_data"
    },
    {
     "data": {
      "text/html": [
       "<span style=\"None\">Did not find user configurations in C:\\Users\\cwood\\Documents\\bball_proj\\wood-ball\\pyproject.toml.</span>"
      ],
      "text/plain": [
       "Did not find user configurations in C:\\Users\\cwood\\Documents\\bball_proj\\wood-ball\\pyproject.toml."
      ]
     },
     "metadata": {},
     "output_type": "display_data"
    }
   ],
   "source": [
    "import numpy as np\n",
    "import pandas as pd\n",
    "import duckdb\n",
    "import pygwalker as pg\n",
    "\n",
    "%reload_ext sql\n",
    "conn = duckdb.connect('X:\\\\nba_data\\\\odds_data\\\\odds.db')\n",
    "%sql conn --alias duckdb\n",
    "\n",
    "%config SqlMagic.displaylimit = 25"
   ]
  },
  {
   "cell_type": "code",
   "execution_count": 4,
   "metadata": {},
   "outputs": [
    {
     "data": {
      "text/html": [
       "<span style=\"None\">Running query in &#x27;duckdb&#x27;</span>"
      ],
      "text/plain": [
       "Running query in 'duckdb'"
      ]
     },
     "metadata": {},
     "output_type": "display_data"
    },
    {
     "data": {
      "text/html": [
       "<table>\n",
       "    <thead>\n",
       "        <tr>\n",
       "            <th>name</th>\n",
       "        </tr>\n",
       "    </thead>\n",
       "    <tbody>\n",
       "        <tr>\n",
       "            <td>nba_champ_odds</td>\n",
       "        </tr>\n",
       "        <tr>\n",
       "            <td>nba_game_odds</td>\n",
       "        </tr>\n",
       "        <tr>\n",
       "            <td>ncaa_champ_odds</td>\n",
       "        </tr>\n",
       "    </tbody>\n",
       "</table>"
      ],
      "text/plain": [
       "+-----------------+\n",
       "|       name      |\n",
       "+-----------------+\n",
       "|  nba_champ_odds |\n",
       "|  nba_game_odds  |\n",
       "| ncaa_champ_odds |\n",
       "+-----------------+"
      ]
     },
     "execution_count": 4,
     "metadata": {},
     "output_type": "execute_result"
    }
   ],
   "source": [
    "%%sql\n",
    "show tables"
   ]
  },
  {
   "cell_type": "code",
   "execution_count": 6,
   "metadata": {},
   "outputs": [
    {
     "data": {
      "application/vnd.jupyter.widget-view+json": {
       "model_id": "826989603d394029a803a89f24ba4fa2",
       "version_major": 2,
       "version_minor": 0
      },
      "text/plain": [
       "Box(children=(HTML(value='\\n<div id=\"ifr-pyg-000626d364929fb72hE6RALMkwPaNxIy\" style=\"height: auto\">\\n    <hea…"
      ]
     },
     "metadata": {},
     "output_type": "display_data"
    },
    {
     "data": {
      "text/html": [
       "<script>\n",
       "    window.addEventListener(\"message\", function(event) {\n",
       "        const backgroundMap = {\n",
       "            \"dark\": \"hsl(240 10% 3.9%)\",\n",
       "            \"light\": \"hsl(0 0 100%)\",\n",
       "        };\n",
       "        const colorMap = {\n",
       "            \"dark\": \"hsl(0 0% 98%)\",\n",
       "            \"light\": \"hsl(240 10% 3.9%)\",\n",
       "        };\n",
       "        if (event.data.action === \"changeAppearance\" && event.data.gid === \"000626d364929fb72hE6RALMkwPaNxIy\") {\n",
       "            var iframe = document.getElementById(\"gwalker-000626d364929fb72hE6RALMkwPaNxIy\");\n",
       "            iframe.style.background  = backgroundMap[event.data.appearance];\n",
       "            iframe.style.color = colorMap[event.data.appearance];\n",
       "        }\n",
       "    });\n",
       "</script>"
      ],
      "text/plain": [
       "<IPython.core.display.HTML object>"
      ]
     },
     "metadata": {},
     "output_type": "display_data"
    },
    {
     "data": {
      "text/html": [],
      "text/plain": [
       "<IPython.core.display.HTML object>"
      ]
     },
     "metadata": {},
     "output_type": "display_data"
    },
    {
     "data": {
      "text/plain": [
       "<pygwalker.api.pygwalker.PygWalker at 0x1badeb88200>"
      ]
     },
     "execution_count": 6,
     "metadata": {},
     "output_type": "execute_result"
    }
   ],
   "source": [
    "df = conn.sql(\"\"\"\n",
    "select * from nba_game_odds\n",
    "\"\"\").df()\n",
    "pg.walk(df, kernel_computation=True)"
   ]
  },
  {
   "cell_type": "code",
   "execution_count": null,
   "metadata": {},
   "outputs": [],
   "source": [
    "df = conn.sql(\"\"\"\n",
    "with first as (\n",
    "    select\n",
    "    name,\n",
    "    bookmakers_title,\n",
    "    avg(price) as avg_odds\n",
    "    from nba_champ_odds\n",
    "    group by name, bookmakers_title\n",
    ")\n",
    "pivot first\n",
    "on bookmakers_title\n",
    "using avg(avg_odds)\n",
    "\"\"\").df()"
   ]
  },
  {
   "cell_type": "code",
   "execution_count": null,
   "metadata": {},
   "outputs": [],
   "source": [
    "%%sql\n",
    "with first as (\n",
    "    select\n",
    "    bookmakers_title, name,\n",
    "    avg(price) as avg_odds,\n",
    "    from nba_champ_odds\n",
    "    group by name, bookmakers_title\n",
    "    order by avg_odds asc\n",
    ")\n",
    "select \n",
    "RANK() OVER (ORDER BY avg_odds) AS rank,\n",
    "*\n",
    "from first"
   ]
  },
  {
   "cell_type": "code",
   "execution_count": null,
   "metadata": {},
   "outputs": [],
   "source": [
    "from sklearn.cluster import KMeans\n",
    "\n",
    "# Reshape the data to a 2D array for KMeans\n",
    "X = df['avg_odds'].values.reshape(-1, 1)\n",
    "\n",
    "# Choose the number of clusters (k)\n",
    "k = 4\n",
    "\n",
    "# Apply K-Means clustering\n",
    "kmeans = KMeans(n_clusters=k, random_state=0).fit(X)\n",
    "\n",
    "# Assign the cluster labels to your original DataFrame\n",
    "df['cluster'] = kmeans.labels_"
   ]
  }
 ],
 "metadata": {
  "kernelspec": {
   "display_name": "default",
   "language": "python",
   "name": "python3"
  },
  "language_info": {
   "codemirror_mode": {
    "name": "ipython",
    "version": 3
   },
   "file_extension": ".py",
   "mimetype": "text/x-python",
   "name": "python",
   "nbconvert_exporter": "python",
   "pygments_lexer": "ipython3",
   "version": "3.12.3"
  }
 },
 "nbformat": 4,
 "nbformat_minor": 2
}
